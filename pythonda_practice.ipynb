{
  "nbformat": 4,
  "nbformat_minor": 0,
  "metadata": {
    "colab": {
      "provenance": [],
      "authorship_tag": "ABX9TyMzdWSTsr+cYpph9Jv9iKEa",
      "include_colab_link": true
    },
    "kernelspec": {
      "name": "python3",
      "display_name": "Python 3"
    },
    "language_info": {
      "name": "python"
    }
  },
  "cells": [
    {
      "cell_type": "markdown",
      "metadata": {
        "id": "view-in-github",
        "colab_type": "text"
      },
      "source": [
        "<a href=\"https://colab.research.google.com/github/soundharyajanagam/python-notes/blob/main/pythonda_practice.ipynb\" target=\"_parent\"><img src=\"https://colab.research.google.com/assets/colab-badge.svg\" alt=\"Open In Colab\"/></a>"
      ]
    },
    {
      "cell_type": "code",
      "execution_count": null,
      "metadata": {
        "colab": {
          "base_uri": "https://localhost:8080/"
        },
        "id": "I8H8GoKqE2fS",
        "outputId": "03927c99-0138-4224-d0ad-19a08add13b8"
      },
      "outputs": [
        {
          "name": "stdout",
          "output_type": "stream",
          "text": [
            "Banking Program\n",
            "1.Show Balance\n",
            "2.Deposit\n",
            "3.Withdrawl\n",
            "4.Exit\n",
            "Enter your choice (1-4):1\n",
            "Banking Program\n",
            "1.Show Balance\n",
            "2.Deposit\n",
            "3.Withdrawl\n",
            "4.Exit\n",
            "Enter your choice (1-4):100\n",
            "that is not correct choice\n",
            "Banking Program\n",
            "1.Show Balance\n",
            "2.Deposit\n",
            "3.Withdrawl\n",
            "4.Exit\n",
            "Enter your choice (1-4):3\n",
            "Banking Program\n",
            "1.Show Balance\n",
            "2.Deposit\n",
            "3.Withdrawl\n",
            "4.Exit\n",
            "Enter your choice (1-4):4\n"
          ]
        }
      ],
      "source": [
        "def show_balance():\n",
        "  pass\n",
        "def deposit():\n",
        "   pass\n",
        "def withdrawl():\n",
        "    pass\n",
        "\n",
        "balance = 0\n",
        "is_running = True\n",
        "while is_running:\n",
        "      print(\"Banking Program\")\n",
        "      print(\"1.Show Balance\")\n",
        "      print(\"2.Deposit\")\n",
        "      print(\"3.Withdrawl\")\n",
        "      print(\"4.Exit\")\n",
        "\n",
        "      choice = input(\"Enter your choice (1-4):\")\n",
        "      if choice == '1':\n",
        "        show_balance()\n",
        "      elif choice == '2':\n",
        "        balance += deposit()\n",
        "      elif choice == '3':\n",
        "        withdrawl()\n",
        "      elif choice == '4':\n",
        "        is_running = False\n",
        "      else:\n",
        "        print(\"that is not correct choice\")\n",
        "\n"
      ]
    }
  ]
}